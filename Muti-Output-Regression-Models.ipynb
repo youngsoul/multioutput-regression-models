{
 "cells": [
  {
   "cell_type": "markdown",
   "metadata": {},
   "source": [
    "# Machine Learning Mastery - Multi-Output Regression\n",
    "\n",
    "Notebook is working through the example of the [Machine Learning Mastery](machinelearningmastery.com) [blog](https://machinelearningmastery.com/multi-output-regression-models-with-python/)\n",
    "\n",
    "Shows how to use scikit-learn wrapper classes to predict multi-output regression models for models that typically do not support multiple outputs.\n"
   ]
  },
  {
   "cell_type": "code",
   "execution_count": 13,
   "metadata": {
    "ExecuteTime": {
     "end_time": "2020-03-27T03:28:39.758042Z",
     "start_time": "2020-03-27T03:28:39.754587Z"
    }
   },
   "outputs": [
    {
     "name": "stdout",
     "output_type": "stream",
     "text": [
      "0.22.2.post1\n"
     ]
    }
   ],
   "source": [
    "# check scikit-learn version\n",
    "import sklearn\n",
    "print(sklearn.__version__)"
   ]
  },
  {
   "cell_type": "code",
   "execution_count": 14,
   "metadata": {
    "ExecuteTime": {
     "end_time": "2020-03-27T03:28:39.769056Z",
     "start_time": "2020-03-27T03:28:39.759930Z"
    }
   },
   "outputs": [],
   "source": [
    "# linear regression for multioutput regression\n",
    "from sklearn.datasets import make_regression\n",
    "from sklearn.linear_model import LinearRegression\n",
    "from sklearn.neighbors import KNeighborsRegressor\n",
    "from sklearn.ensemble import RandomForestRegressor\n",
    "from sklearn.tree import DecisionTreeRegressor\n",
    "from sklearn.multioutput import MultiOutputRegressor\n",
    "from sklearn.svm import LinearSVR\n",
    "from sklearn.model_selection import train_test_split\n",
    "from sklearn.model_selection import cross_val_score\n",
    "from sklearn.model_selection import RepeatedKFold\n",
    "from sklearn.multioutput import RegressorChain\n",
    "from sklearn.metrics import mean_squared_error\n",
    "import numpy as np\n",
    "np.set_printoptions(precision=2)\n",
    "from numpy import absolute\n",
    "from numpy import mean\n",
    "from numpy import std\n",
    "import pandas as pd\n",
    "\n",
    "import matplotlib.pyplot as plt\n",
    "%matplotlib inline\n"
   ]
  },
  {
   "cell_type": "markdown",
   "metadata": {},
   "source": [
    "## Create Train Test Dataset"
   ]
  },
  {
   "cell_type": "code",
   "execution_count": 15,
   "metadata": {
    "ExecuteTime": {
     "end_time": "2020-03-27T03:28:39.775829Z",
     "start_time": "2020-03-27T03:28:39.771020Z"
    }
   },
   "outputs": [],
   "source": [
    "# create datasets\n",
    "X, y = make_regression(n_samples=1000, n_features=10, n_informative=5, n_targets=2, random_state=1)\n",
    "\n",
    "X_train, X_test, y_train, y_test = train_test_split(X,y, test_size=0.2, random_state=42)"
   ]
  },
  {
   "cell_type": "code",
   "execution_count": 16,
   "metadata": {
    "ExecuteTime": {
     "end_time": "2020-03-27T03:28:39.780996Z",
     "start_time": "2020-03-27T03:28:39.777484Z"
    }
   },
   "outputs": [
    {
     "data": {
      "text/plain": [
       "(800, 10)"
      ]
     },
     "execution_count": 16,
     "metadata": {},
     "output_type": "execute_result"
    }
   ],
   "source": [
    "X_train.shape"
   ]
  },
  {
   "cell_type": "code",
   "execution_count": 17,
   "metadata": {
    "ExecuteTime": {
     "end_time": "2020-03-27T03:28:39.785574Z",
     "start_time": "2020-03-27T03:28:39.782343Z"
    }
   },
   "outputs": [
    {
     "data": {
      "text/plain": [
       "(200, 10)"
      ]
     },
     "execution_count": 17,
     "metadata": {},
     "output_type": "execute_result"
    }
   ],
   "source": [
    "X_test.shape"
   ]
  },
  {
   "cell_type": "code",
   "execution_count": 18,
   "metadata": {
    "ExecuteTime": {
     "end_time": "2020-03-27T03:28:39.790215Z",
     "start_time": "2020-03-27T03:28:39.786958Z"
    }
   },
   "outputs": [
    {
     "data": {
      "text/plain": [
       "1000"
      ]
     },
     "execution_count": 18,
     "metadata": {},
     "output_type": "execute_result"
    }
   ],
   "source": [
    "len(y)"
   ]
  },
  {
   "cell_type": "code",
   "execution_count": 19,
   "metadata": {
    "ExecuteTime": {
     "end_time": "2020-03-27T03:28:39.795708Z",
     "start_time": "2020-03-27T03:28:39.791633Z"
    }
   },
   "outputs": [
    {
     "data": {
      "text/plain": [
       "array([[-0.86,  0.03,  2.11, -0.07, -0.6 , -0.77,  0.75,  0.75,  0.06,\n",
       "        -0.79],\n",
       "       [-0.4 ,  0.28, -1.06,  0.25, -1.8 ,  0.14,  0.63, -0.88,  2.89,\n",
       "         2.48],\n",
       "       [ 0.83, -0.59,  0.67,  1.59,  1.74, -0.13,  0.55, -0.41, -0.73,\n",
       "         0.98],\n",
       "       [-0.11,  2.28, -0.61,  2.25, -0.29, -0.39,  0.49,  0.01, -0.33,\n",
       "         1.24],\n",
       "       [ 0.89, -0.5 , -0.13, -0.83, -0.54,  0.43,  0.34,  1.27,  0.86,\n",
       "         0.46]])"
      ]
     },
     "execution_count": 19,
     "metadata": {},
     "output_type": "execute_result"
    }
   ],
   "source": [
    "X_train[:5]"
   ]
  },
  {
   "cell_type": "code",
   "execution_count": 20,
   "metadata": {
    "ExecuteTime": {
     "end_time": "2020-03-27T03:28:39.801684Z",
     "start_time": "2020-03-27T03:28:39.797971Z"
    }
   },
   "outputs": [
    {
     "data": {
      "text/plain": [
       "array([[-126.63,   35.71]])"
      ]
     },
     "execution_count": 20,
     "metadata": {},
     "output_type": "execute_result"
    }
   ],
   "source": [
    "y_test[:1]"
   ]
  },
  {
   "cell_type": "markdown",
   "metadata": {},
   "source": [
    "## Linear Regression"
   ]
  },
  {
   "cell_type": "code",
   "execution_count": 21,
   "metadata": {
    "ExecuteTime": {
     "end_time": "2020-03-27T03:28:39.809869Z",
     "start_time": "2020-03-27T03:28:39.803491Z"
    }
   },
   "outputs": [
    {
     "name": "stdout",
     "output_type": "stream",
     "text": [
      "[ 0.96  0.62  1.19 -0.71  0.28 -0.14 -0.83 -0.8  -0.24  1.16]\n",
      "[-126.63   35.71]\n",
      "[-126.63   35.71]\n"
     ]
    }
   ],
   "source": [
    "\n",
    "# define model\n",
    "model = LinearRegression()\n",
    "# fit model\n",
    "model.fit(X_train, y_train)\n",
    "# make a prediction\n",
    "print(X_test[0])\n",
    "print(y_test[0])\n",
    "data_in = [X_test[0]]\n",
    "yhat = model.predict(data_in)\n",
    "# summarize prediction\n",
    "print(yhat[0])"
   ]
  },
  {
   "cell_type": "code",
   "execution_count": 22,
   "metadata": {
    "ExecuteTime": {
     "end_time": "2020-03-27T03:28:39.813984Z",
     "start_time": "2020-03-27T03:28:39.811208Z"
    }
   },
   "outputs": [],
   "source": [
    "y_preds = model.predict(X_test)"
   ]
  },
  {
   "cell_type": "code",
   "execution_count": 23,
   "metadata": {
    "ExecuteTime": {
     "end_time": "2020-03-27T03:28:39.819965Z",
     "start_time": "2020-03-27T03:28:39.815503Z"
    }
   },
   "outputs": [
    {
     "data": {
      "text/plain": [
       "array([1.96e-26, 9.55e-27])"
      ]
     },
     "execution_count": 23,
     "metadata": {},
     "output_type": "execute_result"
    }
   ],
   "source": [
    "mean_squared_error(y_test, y_preds, multioutput='raw_values',squared=True)"
   ]
  },
  {
   "cell_type": "markdown",
   "metadata": {},
   "source": [
    "## k-Nearest Neighbors"
   ]
  },
  {
   "cell_type": "code",
   "execution_count": 24,
   "metadata": {
    "ExecuteTime": {
     "end_time": "2020-03-27T03:28:39.830628Z",
     "start_time": "2020-03-27T03:28:39.821501Z"
    }
   },
   "outputs": [
    {
     "data": {
      "text/plain": [
       "array([4814.67, 2614.5 ])"
      ]
     },
     "execution_count": 24,
     "metadata": {},
     "output_type": "execute_result"
    }
   ],
   "source": [
    "model = KNeighborsRegressor()\n",
    "# fit model\n",
    "model.fit(X_train, y_train)\n",
    "# make a prediction\n",
    "y_preds = model.predict(X_test)\n",
    "# summarize prediction\n",
    "\n",
    "mean_squared_error(y_test, y_preds, multioutput='raw_values',squared=True)"
   ]
  },
  {
   "cell_type": "markdown",
   "metadata": {},
   "source": [
    "## Random Forest"
   ]
  },
  {
   "cell_type": "code",
   "execution_count": 25,
   "metadata": {
    "ExecuteTime": {
     "end_time": "2020-03-27T03:28:40.176735Z",
     "start_time": "2020-03-27T03:28:39.832002Z"
    }
   },
   "outputs": [
    {
     "data": {
      "text/plain": [
       "array([2203.14, 1632.86])"
      ]
     },
     "execution_count": 25,
     "metadata": {},
     "output_type": "execute_result"
    }
   ],
   "source": [
    "model = RandomForestRegressor()\n",
    "# fit model\n",
    "model.fit(X_train, y_train)\n",
    "# make a prediction\n",
    "y_preds = model.predict(X_test)\n",
    "# summarize prediction\n",
    "\n",
    "mean_squared_error(y_test, y_preds, multioutput='raw_values',squared=True)"
   ]
  },
  {
   "cell_type": "markdown",
   "metadata": {},
   "source": [
    "## Use Cross-Validation and DecisionTreeRegressor"
   ]
  },
  {
   "cell_type": "code",
   "execution_count": 26,
   "metadata": {
    "ExecuteTime": {
     "end_time": "2020-03-27T03:28:41.045008Z",
     "start_time": "2020-03-27T03:28:40.177930Z"
    }
   },
   "outputs": [
    {
     "name": "stdout",
     "output_type": "stream",
     "text": [
      "Result: 51.797 (3.123)\n"
     ]
    }
   ],
   "source": [
    "\n",
    "# define model\n",
    "model = DecisionTreeRegressor()\n",
    "# evaluate model\n",
    "cv = RepeatedKFold(n_splits=10, n_repeats=3, random_state=1)\n",
    "n_scores = cross_val_score(model, X, y, scoring='neg_mean_absolute_error', cv=cv, n_jobs=-1, error_score='raise')\n",
    "# summarize performance\n",
    "n_scores = absolute(n_scores)\n",
    "print('Result: %.3f (%.3f)' % (mean(n_scores), std(n_scores)))"
   ]
  },
  {
   "cell_type": "markdown",
   "metadata": {},
   "source": [
    "## Wrap Multi-Output Regression Algorithms\n",
    "\n",
    "Some algorithms do not lend themselves to multi-outputs for regression.  For these we have to use scikit-learns\n",
    "\n",
    "> * MultiOutputRegressor\n",
    "> * RegressorChain"
   ]
  },
  {
   "cell_type": "markdown",
   "metadata": {},
   "source": [
    "### MultiOutputRegressor"
   ]
  },
  {
   "cell_type": "code",
   "execution_count": 27,
   "metadata": {
    "ExecuteTime": {
     "end_time": "2020-03-27T03:28:41.055437Z",
     "start_time": "2020-03-27T03:28:41.046947Z"
    }
   },
   "outputs": [
    {
     "name": "stdout",
     "output_type": "stream",
     "text": [
      "[-93.15  23.27]\n"
     ]
    }
   ],
   "source": [
    "\n",
    "# define model\n",
    "model = LinearSVR()\n",
    "wrapper = MultiOutputRegressor(model)\n",
    "# fit model\n",
    "wrapper.fit(X, y)\n",
    "# make a prediction\n",
    "data_in = [[-2.02220122, 0.31563495, 0.82797464, -0.30620401, 0.16003707, -1.44411381, 0.87616892, -0.50446586, 0.23009474, 0.76201118]]\n",
    "yhat = wrapper.predict(data_in)\n",
    "# summarize prediction\n",
    "print(yhat[0])\n"
   ]
  },
  {
   "cell_type": "code",
   "execution_count": 28,
   "metadata": {
    "ExecuteTime": {
     "end_time": "2020-03-27T03:28:41.064998Z",
     "start_time": "2020-03-27T03:28:41.056698Z"
    }
   },
   "outputs": [
    {
     "data": {
      "text/plain": [
       "array([9.47e-24, 9.96e-24])"
      ]
     },
     "execution_count": 28,
     "metadata": {},
     "output_type": "execute_result"
    }
   ],
   "source": [
    "model = LinearSVR()\n",
    "wrapper = MultiOutputRegressor(model)\n",
    "\n",
    "# fit model\n",
    "wrapper.fit(X_train, y_train)\n",
    "# make a prediction\n",
    "y_preds = wrapper.predict(X_test)\n",
    "# summarize prediction\n",
    "\n",
    "mean_squared_error(y_test, y_preds, multioutput='raw_values',squared=True)"
   ]
  },
  {
   "cell_type": "markdown",
   "metadata": {},
   "source": [
    "### RegressorChain"
   ]
  },
  {
   "cell_type": "code",
   "execution_count": 29,
   "metadata": {
    "ExecuteTime": {
     "end_time": "2020-03-27T03:28:41.074771Z",
     "start_time": "2020-03-27T03:28:41.066616Z"
    }
   },
   "outputs": [
    {
     "name": "stdout",
     "output_type": "stream",
     "text": [
      "[-93.15  23.27]\n"
     ]
    }
   ],
   "source": [
    "\n",
    "# define model\n",
    "model = LinearSVR()\n",
    "wrapper = RegressorChain(model)\n",
    "# fit model\n",
    "wrapper.fit(X, y)\n",
    "# make a prediction\n",
    "data_in = [[-2.02220122, 0.31563495, 0.82797464, -0.30620401, 0.16003707, -1.44411381, 0.87616892, -0.50446586, 0.23009474, 0.76201118]]\n",
    "yhat = wrapper.predict(data_in)\n",
    "# summarize prediction\n",
    "print(yhat[0])"
   ]
  },
  {
   "cell_type": "code",
   "execution_count": 30,
   "metadata": {
    "ExecuteTime": {
     "end_time": "2020-03-27T03:28:41.085223Z",
     "start_time": "2020-03-27T03:28:41.076216Z"
    }
   },
   "outputs": [
    {
     "data": {
      "text/plain": [
       "array([7.84e-24, 1.50e-04])"
      ]
     },
     "execution_count": 30,
     "metadata": {},
     "output_type": "execute_result"
    }
   ],
   "source": [
    "model = LinearSVR()\n",
    "wrapper = RegressorChain(model)\n",
    "\n",
    "# fit model\n",
    "wrapper.fit(X_train, y_train)\n",
    "# make a prediction\n",
    "y_preds = wrapper.predict(X_test)\n",
    "# summarize prediction\n",
    "\n",
    "mean_squared_error(y_test, y_preds, multioutput='raw_values',squared=True)"
   ]
  }
 ],
 "metadata": {
  "kernelspec": {
   "display_name": "Python 3",
   "language": "python",
   "name": "python3"
  },
  "language_info": {
   "codemirror_mode": {
    "name": "ipython",
    "version": 3
   },
   "file_extension": ".py",
   "mimetype": "text/x-python",
   "name": "python",
   "nbconvert_exporter": "python",
   "pygments_lexer": "ipython3",
   "version": "3.7.6"
  },
  "toc": {
   "base_numbering": 1,
   "nav_menu": {},
   "number_sections": true,
   "sideBar": true,
   "skip_h1_title": false,
   "title_cell": "Table of Contents",
   "title_sidebar": "Contents",
   "toc_cell": false,
   "toc_position": {},
   "toc_section_display": true,
   "toc_window_display": false
  }
 },
 "nbformat": 4,
 "nbformat_minor": 4
}
